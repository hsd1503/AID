{
 "cells": [
  {
   "cell_type": "code",
   "execution_count": null,
   "metadata": {},
   "outputs": [],
   "source": [
    "run main.py"
   ]
  },
  {
   "cell_type": "code",
   "execution_count": 2,
   "metadata": {},
   "outputs": [
    {
     "name": "stdout",
     "output_type": "stream",
     "text": [
      "0\n",
      "1\n",
      "2\n",
      "3\n",
      "4\n",
      "5\n",
      "6\n",
      "7\n",
      "8\n",
      "9\n",
      "fidelity_df_list\n",
      "\\begin{tabular}{llll}\n",
      "\\toprule\n",
      "{} &          XOR & nonlinear\\_additive & fusion\\_feature\\_new \\\\\n",
      "\\midrule\n",
      "AID &  0.778\\#0.094 &        0.816\\#0.105 &        0.878\\#0.028 \\\\\n",
      "\\bottomrule\n",
      "\\end{tabular}\n",
      "\n",
      "roc_df_list\n",
      "\\begin{tabular}{llll}\n",
      "\\toprule\n",
      "{} &         XOR & nonlinear\\_additive & fusion\\_feature\\_new \\\\\n",
      "\\midrule\n",
      "AID &  0.683\\#0.06 &        0.712\\#0.097 &        0.812\\#0.026 \\\\\n",
      "\\bottomrule\n",
      "\\end{tabular}\n",
      "\n",
      "pr_df_list\n",
      "\\begin{tabular}{llll}\n",
      "\\toprule\n",
      "{} &          XOR & nonlinear\\_additive & fusion\\_feature\\_new \\\\\n",
      "\\midrule\n",
      "AID &  0.695\\#0.065 &        0.713\\#0.097 &        0.814\\#0.025 \\\\\n",
      "\\bottomrule\n",
      "\\end{tabular}\n",
      "\n",
      "gen_df_list\n",
      "\\begin{tabular}{llll}\n",
      "\\toprule\n",
      "{} &          XOR & nonlinear\\_additive & fusion\\_feature\\_new \\\\\n",
      "\\midrule\n",
      "AID &  0.517\\#0.011 &        0.707\\#0.109 &         0.683\\#0.03 \\\\\n",
      "\\bottomrule\n",
      "\\end{tabular}\n",
      "\n",
      "accuracy_df_list\n",
      "\\begin{tabular}{llll}\n",
      "\\toprule\n",
      "{} &          XOR & nonlinear\\_additive & fusion\\_feature\\_new \\\\\n",
      "\\midrule\n",
      "AID &  0.786\\#0.093 &        0.812\\#0.099 &        0.874\\#0.029 \\\\\n",
      "\\bottomrule\n",
      "\\end{tabular}\n",
      "\n"
     ]
    },
    {
     "name": "stderr",
     "output_type": "stream",
     "text": [
      "/home/heartvoice/disk/data/exp/AID/stat.py:117: FutureWarning: \n",
      "Panel is deprecated and will be removed in a future version.\n",
      "The recommended way to represent these types of 3-dimensional data are with a MultiIndex on a DataFrame, via the Panel.to_frame() method\n",
      "Alternatively, you can use the xarray package http://xarray.pydata.org/en/stable/.\n",
      "Pandas provides a `.to_xarray()` method to help automate this conversion.\n",
      "\n",
      "  print_avg_latex(fidelity_df_list)\n",
      "/home/heartvoice/disk/data/exp/AID/stat.py:119: FutureWarning: \n",
      "Panel is deprecated and will be removed in a future version.\n",
      "The recommended way to represent these types of 3-dimensional data are with a MultiIndex on a DataFrame, via the Panel.to_frame() method\n",
      "Alternatively, you can use the xarray package http://xarray.pydata.org/en/stable/.\n",
      "Pandas provides a `.to_xarray()` method to help automate this conversion.\n",
      "\n",
      "  print_avg_latex(roc_df_list)\n",
      "/home/heartvoice/disk/data/exp/AID/stat.py:121: FutureWarning: \n",
      "Panel is deprecated and will be removed in a future version.\n",
      "The recommended way to represent these types of 3-dimensional data are with a MultiIndex on a DataFrame, via the Panel.to_frame() method\n",
      "Alternatively, you can use the xarray package http://xarray.pydata.org/en/stable/.\n",
      "Pandas provides a `.to_xarray()` method to help automate this conversion.\n",
      "\n",
      "  print_avg_latex(pr_df_list)\n",
      "/home/heartvoice/disk/data/exp/AID/stat.py:123: FutureWarning: \n",
      "Panel is deprecated and will be removed in a future version.\n",
      "The recommended way to represent these types of 3-dimensional data are with a MultiIndex on a DataFrame, via the Panel.to_frame() method\n",
      "Alternatively, you can use the xarray package http://xarray.pydata.org/en/stable/.\n",
      "Pandas provides a `.to_xarray()` method to help automate this conversion.\n",
      "\n",
      "  print_avg_latex(gen_df_list)\n",
      "/home/heartvoice/disk/data/exp/AID/stat.py:125: FutureWarning: \n",
      "Panel is deprecated and will be removed in a future version.\n",
      "The recommended way to represent these types of 3-dimensional data are with a MultiIndex on a DataFrame, via the Panel.to_frame() method\n",
      "Alternatively, you can use the xarray package http://xarray.pydata.org/en/stable/.\n",
      "Pandas provides a `.to_xarray()` method to help automate this conversion.\n",
      "\n",
      "  print_avg_latex(accuracy_df_list)\n"
     ]
    }
   ],
   "source": [
    "run stat.py"
   ]
  },
  {
   "cell_type": "code",
   "execution_count": null,
   "metadata": {},
   "outputs": [],
   "source": []
  }
 ],
 "metadata": {
  "kernelspec": {
   "display_name": "Python 3",
   "language": "python",
   "name": "python3"
  },
  "language_info": {
   "codemirror_mode": {
    "name": "ipython",
    "version": 3
   },
   "file_extension": ".py",
   "mimetype": "text/x-python",
   "name": "python",
   "nbconvert_exporter": "python",
   "pygments_lexer": "ipython3",
   "version": "3.6.10"
  }
 },
 "nbformat": 4,
 "nbformat_minor": 2
}
