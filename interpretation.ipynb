{
 "cells": [
  {
   "cell_type": "markdown",
   "metadata": {},
   "source": [
    "# 1. Hyper-parameters for experiment\n",
    "- seed: controls synthetic data generation, and model reproduction\n",
    "- datatype: input data type, options for synthetic data are 'XOR', 'nonlinear_additive', 'fusion_feature'\n",
    "- mode: learning mode, options are 'active', 'passive'\n",
    "- black_epochs: solve epoch of blackbox model\n",
    "- solve_epochs: solve epoch of AID\n",
    "- num_features: number of features you want to keep in interpreted model"
   ]
  },
  {
   "cell_type": "code",
   "execution_count": 1,
   "metadata": {},
   "outputs": [],
   "source": [
    "### hyper-parameters for experiment\n",
    "seed = 0\n",
    "datatype = 'fusion_feature'\n",
    "mode = 'passive'\n",
    "black_epochs = 10\n",
    "solve_epochs = 10\n",
    "num_features = 4"
   ]
  },
  {
   "cell_type": "markdown",
   "metadata": {},
   "source": [
    "# 2. Read data and generate prediction\n",
    "you can replace follows to your own data and prediction"
   ]
  },
  {
   "cell_type": "code",
   "execution_count": 2,
   "metadata": {},
   "outputs": [
    {
     "name": "stderr",
     "output_type": "stream",
     "text": [
      "/home/heartvoice/anaconda3/lib/python3.6/site-packages/h5py/__init__.py:36: FutureWarning: Conversion of the second argument of issubdtype from `float` to `np.floating` is deprecated. In future, it will be treated as `np.float64 == np.dtype(float).type`.\n",
      "  from ._conv import register_converters as _register_converters\n",
      "Using TensorFlow backend.\n",
      "/home/heartvoice/anaconda3/lib/python3.6/site-packages/tensorflow/python/framework/dtypes.py:458: FutureWarning: Passing (type, 1) or '1type' as a synonym of type is deprecated; in a future version of numpy, it will be understood as (type, (1,)) / '(1,)type'.\n",
      "  _np_qint8 = np.dtype([(\"qint8\", np.int8, 1)])\n",
      "/home/heartvoice/anaconda3/lib/python3.6/site-packages/tensorflow/python/framework/dtypes.py:459: FutureWarning: Passing (type, 1) or '1type' as a synonym of type is deprecated; in a future version of numpy, it will be understood as (type, (1,)) / '(1,)type'.\n",
      "  _np_quint8 = np.dtype([(\"quint8\", np.uint8, 1)])\n",
      "/home/heartvoice/anaconda3/lib/python3.6/site-packages/tensorflow/python/framework/dtypes.py:460: FutureWarning: Passing (type, 1) or '1type' as a synonym of type is deprecated; in a future version of numpy, it will be understood as (type, (1,)) / '(1,)type'.\n",
      "  _np_qint16 = np.dtype([(\"qint16\", np.int16, 1)])\n",
      "/home/heartvoice/anaconda3/lib/python3.6/site-packages/tensorflow/python/framework/dtypes.py:461: FutureWarning: Passing (type, 1) or '1type' as a synonym of type is deprecated; in a future version of numpy, it will be understood as (type, (1,)) / '(1,)type'.\n",
      "  _np_quint16 = np.dtype([(\"quint16\", np.uint16, 1)])\n",
      "/home/heartvoice/anaconda3/lib/python3.6/site-packages/tensorflow/python/framework/dtypes.py:462: FutureWarning: Passing (type, 1) or '1type' as a synonym of type is deprecated; in a future version of numpy, it will be understood as (type, (1,)) / '(1,)type'.\n",
      "  _np_qint32 = np.dtype([(\"qint32\", np.int32, 1)])\n",
      "/home/heartvoice/anaconda3/lib/python3.6/site-packages/tensorflow/python/framework/dtypes.py:465: FutureWarning: Passing (type, 1) or '1type' as a synonym of type is deprecated; in a future version of numpy, it will be understood as (type, (1,)) / '(1,)type'.\n",
      "  np_resource = np.dtype([(\"resource\", np.ubyte, 1)])\n"
     ]
    },
    {
     "name": "stdout",
     "output_type": "stream",
     "text": [
      "Loading Data for Black-Box Model ...\n",
      "x_train shape: (9000, 10)\n",
      "y_train shape: (9000, 3)\n",
      "x_val shape: (1000, 10)\n",
      "y_val shape: (1000, 3)\n",
      "Build Black-Box Model...\n",
      "Train on 9000 samples, validate on 1000 samples\n",
      "Epoch 1/10\n",
      "9000/9000 [==============================] - 2s - loss: 1.5667 - acc: 0.6548 - val_loss: 1.1757 - val_acc: 0.7450\n",
      "Epoch 2/10\n",
      "9000/9000 [==============================] - 1s - loss: 1.0597 - acc: 0.8176 - val_loss: 0.8201 - val_acc: 0.9600\n",
      "Epoch 3/10\n",
      "9000/9000 [==============================] - 1s - loss: 0.8176 - acc: 0.8808 - val_loss: 0.6231 - val_acc: 0.9510\n",
      "Epoch 4/10\n",
      "9000/9000 [==============================] - 1s - loss: 0.6975 - acc: 0.9022 - val_loss: 0.5300 - val_acc: 0.9620\n",
      "Epoch 5/10\n",
      "9000/9000 [==============================] - 1s - loss: 0.6330 - acc: 0.9146 - val_loss: 0.4771 - val_acc: 0.9800\n",
      "Epoch 6/10\n",
      "9000/9000 [==============================] - 1s - loss: 0.6029 - acc: 0.9190 - val_loss: 0.4454 - val_acc: 0.9880\n",
      "Epoch 7/10\n",
      "9000/9000 [==============================] - 1s - loss: 0.5780 - acc: 0.9232 - val_loss: 0.4226 - val_acc: 0.9880\n",
      "Epoch 8/10\n",
      "9000/9000 [==============================] - 1s - loss: 0.5576 - acc: 0.9233 - val_loss: 0.4079 - val_acc: 0.9910\n",
      "Epoch 9/10\n",
      "9000/9000 [==============================] - 1s - loss: 0.5402 - acc: 0.9264 - val_loss: 0.3983 - val_acc: 0.9840\n",
      "Epoch 10/10\n",
      "9000/9000 [==============================] - 1s - loss: 0.5315 - acc: 0.9301 - val_loss: 0.3959 - val_acc: 0.9740\n",
      "Training time is 20.045440196990967\n"
     ]
    }
   ],
   "source": [
    "from util import *\n",
    "from BlackBox import *\n",
    "### load data\n",
    "x_train, x_val, y_train, y_val = load_data(datatype=datatype, seed=seed)\n",
    "### generate pred, you can replace pred_train, pred_val from you own model\n",
    "blackbox = BlackBox(datatype=datatype, epochs=black_epochs)\n",
    "blackbox.load(x_train, x_val, y_train, y_val)\n",
    "blackbox.train()\n",
    "m_dim = x_val.shape[1]\n",
    "n_targets = y_val.shape[1]\n",
    "pred_train, pred_val = blackbox.gen_preds_new(x_train, x_val)"
   ]
  },
  {
   "cell_type": "code",
   "execution_count": 3,
   "metadata": {},
   "outputs": [],
   "source": [
    "import dill\n",
    "### all the input data\n",
    "input_data = {}\n",
    "input_data['x_train'] = x_train\n",
    "input_data['y_train'] = y_train\n",
    "input_data['pred_train'] = pred_train\n",
    "input_data['x_val'] = x_val\n",
    "input_data['y_val'] = y_val\n",
    "input_data['pred_val'] = pred_val\n",
    "with open('res/blackbox_pred.pkl', 'wb') as fout:\n",
    "    dill.dump(input_data, fout)"
   ]
  },
  {
   "cell_type": "markdown",
   "metadata": {},
   "source": [
    "# 3. Run for AID"
   ]
  },
  {
   "cell_type": "code",
   "execution_count": 4,
   "metadata": {
    "scrolled": false
   },
   "outputs": [
    {
     "name": "stdout",
     "output_type": "stream",
     "text": [
      "Initializing Explainer ...\n",
      "Loading Data ...\n",
      "x_train shape: (9000, 10)\n",
      "y_train shape: (9000, 3)\n",
      "x_val shape: (1000, 10)\n",
      "y_val shape: (1000, 3)\n",
      "epoch 1\n",
      "mean ROC-AUC: 0.6940, mean PR-AUC: 0.5307, mean fidelity: 0.7103, mean accuracy: 0.7047\n",
      "mean ROC-AUC: 0.9981, mean PR-AUC: 0.9970, mean fidelity: 1.0000, mean accuracy: 0.9837\n",
      "epoch 2\n",
      "mean ROC-AUC: 0.7294, mean PR-AUC: 0.5769, mean fidelity: 0.7520, mean accuracy: 0.7457\n",
      "mean ROC-AUC: 0.9981, mean PR-AUC: 0.9970, mean fidelity: 1.0000, mean accuracy: 0.9837\n",
      "epoch 3\n",
      "mean ROC-AUC: 0.7498, mean PR-AUC: 0.6020, mean fidelity: 0.7603, mean accuracy: 0.7567\n",
      "mean ROC-AUC: 0.9981, mean PR-AUC: 0.9970, mean fidelity: 1.0000, mean accuracy: 0.9837\n",
      "epoch 4\n",
      "mean ROC-AUC: 0.7619, mean PR-AUC: 0.6156, mean fidelity: 0.7663, mean accuracy: 0.7633\n",
      "mean ROC-AUC: 0.9981, mean PR-AUC: 0.9970, mean fidelity: 1.0000, mean accuracy: 0.9837\n",
      "epoch 5\n",
      "mean ROC-AUC: 0.7737, mean PR-AUC: 0.6246, mean fidelity: 0.7663, mean accuracy: 0.7640\n",
      "mean ROC-AUC: 0.9981, mean PR-AUC: 0.9970, mean fidelity: 1.0000, mean accuracy: 0.9837\n",
      "epoch 6\n",
      "mean ROC-AUC: 0.7896, mean PR-AUC: 0.6404, mean fidelity: 0.7700, mean accuracy: 0.7670\n",
      "mean ROC-AUC: 0.9981, mean PR-AUC: 0.9970, mean fidelity: 1.0000, mean accuracy: 0.9837\n",
      "epoch 7\n",
      "mean ROC-AUC: 0.8046, mean PR-AUC: 0.6579, mean fidelity: 0.7760, mean accuracy: 0.7723\n",
      "mean ROC-AUC: 0.9981, mean PR-AUC: 0.9970, mean fidelity: 1.0000, mean accuracy: 0.9837\n",
      "epoch 8\n",
      "mean ROC-AUC: 0.8164, mean PR-AUC: 0.6748, mean fidelity: 0.7793, mean accuracy: 0.7757\n",
      "mean ROC-AUC: 0.9981, mean PR-AUC: 0.9970, mean fidelity: 1.0000, mean accuracy: 0.9837\n",
      "epoch 9\n",
      "mean ROC-AUC: 0.8241, mean PR-AUC: 0.6857, mean fidelity: 0.7843, mean accuracy: 0.7800\n",
      "mean ROC-AUC: 0.9981, mean PR-AUC: 0.9970, mean fidelity: 1.0000, mean accuracy: 0.9837\n",
      "epoch 10\n",
      "mean ROC-AUC: 0.8303, mean PR-AUC: 0.6941, mean fidelity: 0.7873, mean accuracy: 0.7837\n",
      "mean ROC-AUC: 0.9981, mean PR-AUC: 0.9970, mean fidelity: 1.0000, mean accuracy: 0.9837\n",
      "epoch 11\n",
      "mean ROC-AUC: 0.8352, mean PR-AUC: 0.7002, mean fidelity: 0.7900, mean accuracy: 0.7863\n",
      "mean ROC-AUC: 0.9981, mean PR-AUC: 0.9970, mean fidelity: 1.0000, mean accuracy: 0.9837\n",
      "mean ROC-AUC: 0.9981, mean PR-AUC: 0.9970, mean fidelity: 1.0000, mean accuracy: 0.9837\n"
     ]
    }
   ],
   "source": [
    "from AID import SolveNN\n",
    "opt = SolveNN(l=num_features, m_dim=m_dim, n_targets=n_targets, blackbox_pred_path='res/blackbox_pred.pkl', epochs=solve_epochs, seed=seed, mode=mode, datatype=datatype, eval_more=False)\n",
    "opt.load(None, None, None, None)\n",
    "opt.train()\n",
    "res = opt.get_res()"
   ]
  },
  {
   "cell_type": "markdown",
   "metadata": {},
   "source": [
    "# 4. Get Interpretation Results"
   ]
  },
  {
   "cell_type": "code",
   "execution_count": 5,
   "metadata": {},
   "outputs": [
    {
     "name": "stdout",
     "output_type": "stream",
     "text": [
      "Interpreted scores has shape (1000, 10, 3), which is 1000 samples, 10 features and 3 targets.\n"
     ]
    }
   ],
   "source": [
    "scores = opt.scores\n",
    "print('Interpreted scores has shape {0}, which is {1} samples, {2} features and {3} targets.'.format(scores.shape, scores.shape[0], scores.shape[1], scores.shape[2]))"
   ]
  },
  {
   "cell_type": "code",
   "execution_count": null,
   "metadata": {},
   "outputs": [],
   "source": []
  }
 ],
 "metadata": {
  "kernelspec": {
   "display_name": "Python 3",
   "language": "python",
   "name": "python3"
  },
  "language_info": {
   "codemirror_mode": {
    "name": "ipython",
    "version": 3
   },
   "file_extension": ".py",
   "mimetype": "text/x-python",
   "name": "python",
   "nbconvert_exporter": "python",
   "pygments_lexer": "ipython3",
   "version": "3.6.10"
  }
 },
 "nbformat": 4,
 "nbformat_minor": 2
}
